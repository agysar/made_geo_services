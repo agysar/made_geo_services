{
 "cells": [
  {
   "cell_type": "markdown",
   "metadata": {},
   "source": [
    "# Анализ пространственных данных. Домашнее задание №2"
   ]
  },
  {
   "cell_type": "markdown",
   "metadata": {},
   "source": [
    "Мягкий дедлайн: __4 ноября 2020 г. 23:59__\n",
    "\n",
    "Жесткий дедлайн (со штрафом в _50%_ от количества набранных вами за ДЗ баллов): __5 ноября 2020 г. 08:59__"
   ]
  },
  {
   "cell_type": "markdown",
   "metadata": {},
   "source": [
    "Визуализация \"чего-либо\" __без__ выполненного основного задания оценивается в __0 баллов__"
   ]
  },
  {
   "cell_type": "markdown",
   "metadata": {},
   "source": [
    "ФИО: `Маргасов Арсений Олегович`"
   ]
  },
  {
   "cell_type": "markdown",
   "metadata": {},
   "source": [
    "Группа: `MADE-DS-11`"
   ]
  },
  {
   "cell_type": "markdown",
   "metadata": {},
   "source": [
    "## Задание №1. Горячая точка (алгоритм - 10 баллов, визуализация - 10 баллов)."
   ]
  },
  {
   "cell_type": "markdown",
   "metadata": {},
   "source": [
    "Генерируйте рандомные точки на планете Земля до тех пор, пока не попадете на территорию ``Афганистана``"
   ]
  },
  {
   "cell_type": "markdown",
   "metadata": {},
   "source": [
    "1. Вы можете использовать функции принадлжености точки полигону и расстояния от точки до полигона (в метрах)\n",
    "2. Предложите не наивный алгоритм поиска (генерировать __напрямую__ точку из полигона границ Афганистана __запрещено__)"
   ]
  },
  {
   "cell_type": "code",
   "execution_count": 271,
   "metadata": {},
   "outputs": [],
   "source": [
    "import numpy as np\n",
    "import geopandas as gpd\n",
    "import pandas as pd\n",
    "from itertools import count\n",
    "from shapely.geometry import Point, Polygon\n",
    "import random\n",
    "import folium"
   ]
  },
  {
   "cell_type": "code",
   "execution_count": 294,
   "metadata": {},
   "outputs": [],
   "source": [
    "world = gpd.read_file(gpd.datasets.get_path('naturalearth_lowres'))"
   ]
  },
  {
   "cell_type": "code",
   "execution_count": 327,
   "metadata": {},
   "outputs": [],
   "source": [
    "AfgPolygon = world.loc[world['name'] == 'Afghanistan']['geometry'][103]"
   ]
  },
  {
   "cell_type": "code",
   "execution_count": 328,
   "metadata": {},
   "outputs": [],
   "source": [
    "AfgPolygon = Polygon(list(map(lambda x: (x[1], x[0]), AfgPolygon.exterior.coords[:])))"
   ]
  },
  {
   "cell_type": "code",
   "execution_count": 329,
   "metadata": {},
   "outputs": [],
   "source": [
    "bbox = AfgPolygon.bounds\n",
    "afg_centroid = Point((bbox[0] + bbox[2]) / 2, (bbox[1] + bbox[3]) / 2)"
   ]
  },
  {
   "cell_type": "code",
   "execution_count": 330,
   "metadata": {},
   "outputs": [],
   "source": [
    "random.seed = 19"
   ]
  },
  {
   "cell_type": "code",
   "execution_count": 335,
   "metadata": {},
   "outputs": [],
   "source": [
    "def gen_point(prev_point):\n",
    "    r = afg_centroid.distance(prev_point) / 4\n",
    "#     r = AfgPolygon.hausdorff_distance(prev_point) / 4\n",
    "    x0 = 0.25 * prev_point.x + 0.75 * afg_centroid.x\n",
    "    y0 = 0.25 * prev_point.y + 0.75 * afg_centroid.y\n",
    "    u = random.random()\n",
    "    x = u * (prev_point.x + afg_centroid.x) / 2 + (1 - u) * afg_centroid.x\n",
    "    y = y0 + np.sqrt(r * r - (x - x0) * (x - x0))\n",
    "    return Point(x, y)"
   ]
  },
  {
   "cell_type": "code",
   "execution_count": 338,
   "metadata": {},
   "outputs": [
    {
     "name": "stdout",
     "output_type": "stream",
     "text": [
      "POINT (-73 133)\n",
      "POINT (19.14258953183657 113.0532830273824)\n",
      "POINT (29.46322080207255 91.01171227082946)\n",
      "POINT (32.19922287874535 79.50290426530088)\n",
      "POINT (33.41610800487202 73.70338043845386)\n",
      "POINT (33.82293439514692 70.77773817390457)\n",
      "POINT (33.87890656442441 69.31074354262175)\n"
     ]
    }
   ],
   "source": [
    "points = []\n",
    "p = Point(random.randint(-90, 90), random.randint(-180, 180))\n",
    "for i in count(start = 1):\n",
    "    print(p)\n",
    "    points.append(p)\n",
    "    if p.within(AfgPolygon):\n",
    "        break\n",
    "    p = gen_point(p)"
   ]
  },
  {
   "cell_type": "code",
   "execution_count": 378,
   "metadata": {},
   "outputs": [
    {
     "data": {
      "text/html": [
       "<div style=\"width:100%;\"><div style=\"position:relative;width:100%;height:0;padding-bottom:60%;\"><span style=\"color:#565656\">Make this Notebook Trusted to load map: File -> Trust Notebook</span><iframe src=\"about:blank\" style=\"position:absolute;width:100%;height:100%;left:0;top:0;border:none !important;\" data-html=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 onload=\"this.contentDocument.open();this.contentDocument.write(atob(this.getAttribute('data-html')));this.contentDocument.close();\" allowfullscreen webkitallowfullscreen mozallowfullscreen></iframe></div></div>"
      ],
      "text/plain": [
       "<folium.folium.Map at 0x7f1946930d30>"
      ]
     },
     "execution_count": 378,
     "metadata": {},
     "output_type": "execute_result"
    }
   ],
   "source": [
    "m = folium.Map(afg_centroid.coords[:][0], zoom_start=6)\n",
    "folium.GeoJson(world.loc[world['name'] == 'Afghanistan']['geometry'][103]).add_to(m)\n",
    "folium.Marker(\n",
    "    location=points[0].coords[:][0],\n",
    "    popup= 'Point #1' ,\n",
    "    icon=folium.Icon(color='green', icon='info-sign')).add_to(m)\n",
    "for i in range(1, len(points)):\n",
    "    folium.Marker(\n",
    "    location=points[i].coords[:][0],\n",
    "    popup= 'Point #' + str(i + 1),\n",
    "    icon=folium.Icon(color='green', icon='info-sign')).add_to(m)\n",
    "    folium.PolyLine([points[i - 1].coords[:][0], \n",
    "                     points[i].coords[:][0]], color='purple').add_to(m)\n",
    "folium.LatLngPopup().add_to(m)\n",
    "# m.save('/home/agysar/made/geo/made_geo_services/HW2/afghan.html')\n",
    "m"
   ]
  },
  {
   "cell_type": "markdown",
   "metadata": {},
   "source": [
    "Визуализируйте пошагово предложенный алгоритм при помощи ``Folium``"
   ]
  },
  {
   "cell_type": "markdown",
   "metadata": {},
   "source": [
    "## Задание №2. Качество жизни (20 баллов)."
   ]
  },
  {
   "cell_type": "markdown",
   "metadata": {},
   "source": [
    "Для измерения показателя качества жизни в точке, найденной в предыдущем задании, вам необходимо рассчитать следующую сумму расстояний (в метрах):"
   ]
  },
  {
   "cell_type": "markdown",
   "metadata": {},
   "source": [
    "1. Расстояние от точки до 5 ближайших __*__ банкоматов, находящихся в стране с наибольшим количеством объектов жилой недвижимости\n",
    "2. Расстояние от точки до 5 ближайших школ, находящихся в стране с наибольшим количеством аптек в столице\n",
    "3. Расстояние от точки до 5 ближайших кинотеатров, наодящихся в стране с самым большим отношением числа железнодорожных станций к автобусным остановкам в южной части __**__"
   ]
  },
  {
   "cell_type": "markdown",
   "metadata": {},
   "source": [
    "__*__ При поиске _N_ ближайших объектов обязательно использовать ``R-tree``\n",
    "\n",
    "__**__ Южной частью страны является территория, находящаяся к югу от множества точек, равноудаленных от самой северной и самой южной точек страны"
   ]
  },
  {
   "cell_type": "code",
   "execution_count": 1,
   "metadata": {},
   "outputs": [],
   "source": [
    "# put your code here"
   ]
  },
  {
   "cell_type": "markdown",
   "metadata": {},
   "source": [
    "## Задание №3. Поездка по Нью-Йорку (маршрут - 20 баллов, визуализация - 10 баллов)."
   ]
  },
  {
   "cell_type": "markdown",
   "metadata": {},
   "source": [
    "Добраться __на автомобиле__ от входа в ``Central Park`` __Нью-Йорка__ (со стороны ``5th Avenue``) до пересечения ``Water Street`` и ``Washington Street`` в Бруклине (откуда получаются лучшие фото Манхэттенского моста) довольно непросто - разумеется, из-за вечных пробок. Однако еще сложнее это сделать, проезжая мимо школ, где дети то и дело переходят дорогу в неположенном месте."
   ]
  },
  {
   "cell_type": "markdown",
   "metadata": {},
   "source": [
    "Вам необходимо построить описанный выше маршрут, избегая на своем пути школы. Визуализируйте данный маршрут (также добавив школы и недоступные для проезда участки дорог) при помощи ``Folium``"
   ]
  },
  {
   "cell_type": "markdown",
   "metadata": {},
   "source": [
    "Данные о расположении школ Нью-Йорка можно найти [здесь](https://catalog.data.gov/dataset/2019-2020-school-point-locations)"
   ]
  },
  {
   "cell_type": "code",
   "execution_count": null,
   "metadata": {},
   "outputs": [],
   "source": [
    "# put your code here"
   ]
  }
 ],
 "metadata": {
  "kernelspec": {
   "display_name": "Python 3",
   "language": "python",
   "name": "python3"
  },
  "language_info": {
   "codemirror_mode": {
    "name": "ipython",
    "version": 3
   },
   "file_extension": ".py",
   "mimetype": "text/x-python",
   "name": "python",
   "nbconvert_exporter": "python",
   "pygments_lexer": "ipython3",
   "version": "3.8.5"
  }
 },
 "nbformat": 4,
 "nbformat_minor": 4
}
